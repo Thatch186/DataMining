{
 "cells": [
  {
   "cell_type": "code",
   "execution_count": 1,
   "metadata": {},
   "outputs": [],
   "source": [
    "from data.dataset import Dataset\n",
    "import numpy as np\n",
    "import pandas as pd\n",
    "from TPC3.decision_tree import DecisionTree\n",
    "from TPC1.rw import *\n",
    "from sklearn.metrics import accuracy_score"
   ]
  },
  {
   "cell_type": "code",
   "execution_count": 2,
   "metadata": {},
   "outputs": [],
   "source": [
    "def accuracy_score(y_true, y_pred):\n",
    "    \"\"\"\n",
    "    Classification performance metric that computes the accuracy of y_true\n",
    "    and y_pred.\n",
    "    Parameters\n",
    "    ----------\n",
    "    y_true: numpy.ndarray (n_samples,)\n",
    "        Ground truth correct labels.\n",
    "    y_pred: numpy.ndarray  (n_samples,)\n",
    "        Estimated target values.\n",
    "    Returns\n",
    "    -------\n",
    "    accuracy (float) \n",
    "        Accuracy score.\n",
    "    \"\"\"\n",
    "    accuracy = (y_true==y_pred).sum() / len(y_true)\n",
    "    return accuracy"
   ]
  },
  {
   "cell_type": "code",
   "execution_count": 3,
   "metadata": {},
   "outputs": [],
   "source": [
    "def train_test_split_1(dataset: Dataset, test_size=0.3):\n",
    "    nrows = dataset.get_X().shape[0]\n",
    "    test_size = int(test_size * nrows)\n",
    "    train_size = nrows - test_size\n",
    "    idx = np.arange(nrows)\n",
    "    np.random.shuffle(idx)\n",
    "    train_idx = idx[:train_size]\n",
    "    test_idx = idx[train_size:]\n",
    "\n",
    "    # Get the X and Y attributes of the dataset object\n",
    "    X = dataset.get_X()\n",
    "    y = dataset.get_y()\n",
    "    features = dataset.get_features()\n",
    "    label = dataset.get_label()\n",
    "\n",
    "    # Split the X and Y data into training and test sets\n",
    "    X_train, y_train = X[train_idx], y[train_idx]\n",
    "    X_test, y_test = X[test_idx], y[test_idx]\n",
    "\n",
    "    # Define the discrete and numeric features\n",
    "    data = pd.DataFrame(X)\n",
    "    discretes = [str(col) for col in data.columns if data[col].dtype in ['object', 'category', 'bool']]\n",
    "\n",
    "    # Create the training and test datasets\n",
    "    train = Dataset(X=X_train, y=y_train, features=features, discrete_features = discretes, label=label)\n",
    "    test = Dataset(X=X_test, y=y_test, features=features, discrete_features = discretes, label=label)\n",
    " \n",
    "    return X_train, X_test, y_train, y_test"
   ]
  },
  {
   "cell_type": "code",
   "execution_count": 8,
   "metadata": {},
   "outputs": [],
   "source": [
    "from sklearn import datasets\n",
    "from sklearn.model_selection import train_test_split\n",
    "from sklearn.metrics import accuracy_score\n",
    "def test_dt():\n",
    "    \n",
    "    \n",
    "    \n",
    "    data = datasets.load_breast_cancer()\n",
    "    X, y = data.data, data.target\n",
    "    \n",
    "    X_train, X_test, y_train, y_test = train_test_split(X, y, test_size=0.2, random_state=1234)\n",
    "\n",
    "    # Train the DecisionTree model\n",
    "    dt = DecisionTree(criterion='entropy', splitter='best', max_depth=None, min_samples_split=2, min_samples_leaf=1,\n",
    "                                         pre_pruning='independence', post_pruning='reduced_error_pruning', class_threshold=0.01)\n",
    "    dt.fit(X_train, y_train)\n",
    "    \n",
    "    # Evaluate the model on the test set\n",
    "    accuracy = (dt.predict(X_test) == y_test).mean()\n",
    "\n",
    "    # Print the accuracy\n",
    "    print(\"Accuracy: {:.2f}%\".format(accuracy * 100))"
   ]
  },
  {
   "cell_type": "code",
   "execution_count": 9,
   "metadata": {},
   "outputs": [
    {
     "name": "stdout",
     "output_type": "stream",
     "text": [
      "Accuracy: 92.11%\n"
     ]
    }
   ],
   "source": [
    "test_dt()"
   ]
  },
  {
   "cell_type": "code",
   "execution_count": null,
   "metadata": {},
   "outputs": [],
   "source": []
  },
  {
   "cell_type": "code",
   "execution_count": null,
   "metadata": {},
   "outputs": [],
   "source": []
  },
  {
   "cell_type": "code",
   "execution_count": null,
   "metadata": {},
   "outputs": [],
   "source": []
  }
 ],
 "metadata": {
  "kernelspec": {
   "display_name": "Python 3 (ipykernel)",
   "language": "python",
   "name": "python3"
  },
  "language_info": {
   "codemirror_mode": {
    "name": "ipython",
    "version": 3
   },
   "file_extension": ".py",
   "mimetype": "text/x-python",
   "name": "python",
   "nbconvert_exporter": "python",
   "pygments_lexer": "ipython3",
   "version": "3.10.6"
  },
  "orig_nbformat": 4,
  "vscode": {
   "interpreter": {
    "hash": "c54ff1b262ec793716ebe3cd199d0dd4554fe9695ec96ceed4d094d21ae66a9b"
   }
  }
 },
 "nbformat": 4,
 "nbformat_minor": 2
}
