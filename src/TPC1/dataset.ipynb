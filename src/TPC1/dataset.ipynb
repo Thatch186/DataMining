{
 "cells": [
  {
   "cell_type": "code",
   "execution_count": 1,
   "metadata": {},
   "outputs": [],
   "source": [
    "import pandas as pd\n",
    "import numpy as np\n",
    "\n",
    "from data.to_csv import *\n"
   ]
  },
  {
   "cell_type": "code",
   "execution_count": 2,
   "metadata": {},
   "outputs": [
    {
     "name": "stdout",
     "output_type": "stream",
     "text": [
      "============================================================\n",
      "\n",
      "\u001b[93mLendo Dataset iris_missing_data.csv\u001b[00m\n",
      "Leitura completa.\n",
      "\n"
     ]
    }
   ],
   "source": [
    "\n",
    "print(\"=\"*60 + \"\\n\")\n",
    "dataset_name = \"iris_missing_data.csv\"\n",
    "print(\"\\033[93m{}\\033[00m\".format(f\"Lendo Dataset {dataset_name}\"))\n",
    "ds = read_csv(f\"../datasets/{dataset_name}\", ',',features=True,label=True)\n",
    "print(\"Leitura completa.\\n\")\n"
   ]
  },
  {
   "cell_type": "code",
   "execution_count": 3,
   "metadata": {},
   "outputs": [
    {
     "name": "stdout",
     "output_type": "stream",
     "text": [
      "NF:  ['f1', 'f2', 'f3', 'f4']\n",
      "['f2', 'f3']\n"
     ]
    }
   ],
   "source": [
    "from variance_threshold import VarianceThreshold\n",
    "from data.dataset import Dataset\n",
    "\n",
    "dataset = Dataset(X=np.array([[0, 2, 0, 3],\n",
    "                              [0, 1, 4, 3],\n",
    "                              [0, 1, 1, 3]]),\n",
    "                  y=np.array([0, 1, 0]),\n",
    "                  features=[\"f1\", \"f2\", \"f3\", \"f4\"],\n",
    "                  discrete_features=[],\n",
    "                  numeric_features=[\"f1\", \"f2\",\"f3\", \"f4\"],\n",
    "                  label=\"y\")\n",
    "\n",
    "selector = VarianceThreshold()\n",
    "selector = selector.fit(dataset)\n",
    "dataset = selector.transform(dataset)\n",
    "print(dataset.features)\n",
    "\n",
    "\n"
   ]
  },
  {
   "cell_type": "code",
   "execution_count": null,
   "metadata": {},
   "outputs": [],
   "source": []
  },
  {
   "cell_type": "code",
   "execution_count": null,
   "metadata": {},
   "outputs": [],
   "source": []
  },
  {
   "cell_type": "code",
   "execution_count": null,
   "metadata": {},
   "outputs": [],
   "source": []
  }
 ],
 "metadata": {
  "kernelspec": {
   "display_name": "Python 3 (ipykernel)",
   "language": "python",
   "name": "python3"
  },
  "language_info": {
   "codemirror_mode": {
    "name": "ipython",
    "version": 3
   },
   "file_extension": ".py",
   "mimetype": "text/x-python",
   "name": "python",
   "nbconvert_exporter": "python",
   "pygments_lexer": "ipython3",
   "version": "3.10.6"
  }
 },
 "nbformat": 4,
 "nbformat_minor": 2
}
