{
 "cells": [
  {
   "cell_type": "code",
   "execution_count": 38,
   "metadata": {},
   "outputs": [],
   "source": [
    "import pandas as pd\n",
    "import numpy as np\n",
    "\n",
    "from data.to_csv import *\n"
   ]
  },
  {
   "cell_type": "code",
   "execution_count": 12,
   "metadata": {},
   "outputs": [
    {
     "name": "stdout",
     "output_type": "stream",
     "text": [
      "============================================================\n",
      "\n",
      "\u001b[93mLendo Dataset iris_missing_data.csv\u001b[00m\n",
      "Leitura completa.\n",
      "\n"
     ]
    }
   ],
   "source": [
    "\n",
    "print(\"=\"*60 + \"\\n\")\n",
    "dataset_name = \"iris_missing_data.csv\"\n",
    "print(\"\\033[93m{}\\033[00m\".format(f\"Lendo Dataset {dataset_name}\"))\n",
    "ds = read_csv(f\"../datasets/{dataset_name}\", ',',features=True,label=True)\n",
    "print(\"Leitura completa.\\n\")\n"
   ]
  },
  {
   "cell_type": "code",
   "execution_count": 42,
   "metadata": {},
   "outputs": [
    {
     "ename": "ValueError",
     "evalue": "At least one of discrete_features or numeric_features must be provided",
     "output_type": "error",
     "traceback": [
      "\u001b[0;31m---------------------------------------------------------------------------\u001b[0m",
      "\u001b[0;31mValueError\u001b[0m                                Traceback (most recent call last)",
      "Cell \u001b[0;32mIn[42], line 14\u001b[0m\n\u001b[1;32m     12\u001b[0m selector \u001b[39m=\u001b[39m VarianceThreshold()\n\u001b[1;32m     13\u001b[0m selector \u001b[39m=\u001b[39m selector\u001b[39m.\u001b[39mfit(dataset)\n\u001b[0;32m---> 14\u001b[0m dataset \u001b[39m=\u001b[39m selector\u001b[39m.\u001b[39;49mtransform(dataset)\n\u001b[1;32m     15\u001b[0m \u001b[39mprint\u001b[39m(dataset\u001b[39m.\u001b[39mfeatures)\n",
      "File \u001b[0;32m~/Desktop/MESTRADO/DMTpcs/DataMining/src/variance_threshold.py:74\u001b[0m, in \u001b[0;36mVarianceThreshold.transform\u001b[0;34m(self, dataset)\u001b[0m\n\u001b[1;32m     72\u001b[0m X \u001b[39m=\u001b[39m X[:, features_mask]\n\u001b[1;32m     73\u001b[0m features \u001b[39m=\u001b[39m np\u001b[39m.\u001b[39marray(dataset\u001b[39m.\u001b[39mfeatures)[features_mask]\n\u001b[0;32m---> 74\u001b[0m \u001b[39mreturn\u001b[39;00m Dataset(X\u001b[39m=\u001b[39;49mX, y\u001b[39m=\u001b[39;49mdataset\u001b[39m.\u001b[39;49my, features\u001b[39m=\u001b[39;49m\u001b[39mlist\u001b[39;49m(features), label\u001b[39m=\u001b[39;49mdataset\u001b[39m.\u001b[39;49mlabel)\n",
      "File \u001b[0;32m~/Desktop/MESTRADO/DMTpcs/DataMining/src/data/dataset.py:40\u001b[0m, in \u001b[0;36mDataset.__init__\u001b[0;34m(self, X, y, features, discrete_features, numeric_features, label)\u001b[0m\n\u001b[1;32m     37\u001b[0m     features \u001b[39m=\u001b[39m \u001b[39mlist\u001b[39m(features)\n\u001b[1;32m     39\u001b[0m \u001b[39mif\u001b[39;00m discrete_features \u001b[39mis\u001b[39;00m \u001b[39mNone\u001b[39;00m \u001b[39mand\u001b[39;00m numeric_features \u001b[39mis\u001b[39;00m \u001b[39mNone\u001b[39;00m:\n\u001b[0;32m---> 40\u001b[0m     \u001b[39mraise\u001b[39;00m \u001b[39mValueError\u001b[39;00m(\u001b[39m\"\u001b[39m\u001b[39mAt least one of discrete_features or numeric_features must be provided\u001b[39m\u001b[39m\"\u001b[39m)\n\u001b[1;32m     41\u001b[0m \u001b[39melif\u001b[39;00m discrete_features \u001b[39mis\u001b[39;00m \u001b[39mNone\u001b[39;00m:\n\u001b[1;32m     42\u001b[0m     \u001b[39mself\u001b[39m\u001b[39m.\u001b[39mdiscrete_mask \u001b[39m=\u001b[39m np\u001b[39m.\u001b[39misin(features, numeric_features)\n",
      "\u001b[0;31mValueError\u001b[0m: At least one of discrete_features or numeric_features must be provided"
     ]
    }
   ],
   "source": [
    "from variance_threshold import VarianceThreshold\n",
    "from data.dataset import Dataset\n",
    "\n",
    "dataset = Dataset(X=np.array([[0, 2, 0, 3],\n",
    "                              [0, 1, 4, 3],\n",
    "                              [0, 1, 1, 3]]),\n",
    "                  y=np.array([0, 1, 0]),\n",
    "                  features=[\"f1\", \"f2\", \"f3\", \"f4\"],\n",
    "                  numeric_features=[\"f1\", \"f2\", \"f4\"],\n",
    "                  label=\"y\")\n",
    "\n",
    "selector = VarianceThreshold()\n",
    "selector = selector.fit(dataset)\n",
    "dataset = selector.transform(dataset)\n",
    "print(dataset.features)\n",
    "\n",
    "\n"
   ]
  }
 ],
 "metadata": {
  "kernelspec": {
   "display_name": "AP",
   "language": "python",
   "name": "python3"
  },
  "language_info": {
   "codemirror_mode": {
    "name": "ipython",
    "version": 3
   },
   "file_extension": ".py",
   "mimetype": "text/x-python",
   "name": "python",
   "nbconvert_exporter": "python",
   "pygments_lexer": "ipython3",
   "version": "3.10.9"
  },
  "orig_nbformat": 4
 },
 "nbformat": 4,
 "nbformat_minor": 2
}
