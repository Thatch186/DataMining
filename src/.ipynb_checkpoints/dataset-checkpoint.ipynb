{
 "cells": [
  {
   "cell_type": "code",
   "execution_count": 1,
   "metadata": {},
   "outputs": [],
   "source": [
    "import pandas as pd\n",
    "import numpy as np\n",
    "\n",
    "from data.to_csv import *\n"
   ]
  },
  {
   "cell_type": "code",
   "execution_count": 2,
   "metadata": {},
   "outputs": [
    {
     "name": "stdout",
     "output_type": "stream",
     "text": [
      "============================================================\n",
      "\n",
      "\u001b[93mLendo Dataset iris_missing_data.csv\u001b[00m\n",
      "Leitura completa.\n",
      "\n"
     ]
    }
   ],
   "source": [
    "\n",
    "print(\"=\"*60 + \"\\n\")\n",
    "dataset_name = \"iris_missing_data.csv\"\n",
    "print(\"\\033[93m{}\\033[00m\".format(f\"Lendo Dataset {dataset_name}\"))\n",
    "ds = read_csv(f\"../datasets/{dataset_name}\", ',',features=True,label=True)\n",
    "print(\"Leitura completa.\\n\")\n"
   ]
  },
  {
   "cell_type": "code",
   "execution_count": 3,
   "metadata": {},
   "outputs": [
    {
     "ename": "ValueError",
     "evalue": "Theres is not encoded data. Consider using an encoder.",
     "output_type": "error",
     "traceback": [
      "\u001b[0;31m---------------------------------------------------------------------------\u001b[0m",
      "\u001b[0;31mValueError\u001b[0m                                Traceback (most recent call last)",
      "Cell \u001b[0;32mIn [3], line 14\u001b[0m\n\u001b[1;32m      4\u001b[0m dataset \u001b[38;5;241m=\u001b[39m Dataset(X\u001b[38;5;241m=\u001b[39mnp\u001b[38;5;241m.\u001b[39marray([[\u001b[38;5;241m0\u001b[39m, \u001b[38;5;241m2\u001b[39m, \u001b[38;5;124m'\u001b[39m\u001b[38;5;124ma\u001b[39m\u001b[38;5;124m'\u001b[39m, \u001b[38;5;241m3\u001b[39m],\n\u001b[1;32m      5\u001b[0m                               [\u001b[38;5;241m0\u001b[39m, \u001b[38;5;241m1\u001b[39m, \u001b[38;5;124m'\u001b[39m\u001b[38;5;124mb\u001b[39m\u001b[38;5;124m'\u001b[39m, \u001b[38;5;241m3\u001b[39m],\n\u001b[1;32m      6\u001b[0m                               [\u001b[38;5;241m0\u001b[39m, \u001b[38;5;241m1\u001b[39m, \u001b[38;5;124m'\u001b[39m\u001b[38;5;124mc\u001b[39m\u001b[38;5;124m'\u001b[39m, \u001b[38;5;241m3\u001b[39m]]),\n\u001b[0;32m   (...)\u001b[0m\n\u001b[1;32m     10\u001b[0m                   numeric_features\u001b[38;5;241m=\u001b[39m[\u001b[38;5;124m\"\u001b[39m\u001b[38;5;124mf1\u001b[39m\u001b[38;5;124m\"\u001b[39m, \u001b[38;5;124m\"\u001b[39m\u001b[38;5;124mf2\u001b[39m\u001b[38;5;124m\"\u001b[39m, \u001b[38;5;124m\"\u001b[39m\u001b[38;5;124mf4\u001b[39m\u001b[38;5;124m\"\u001b[39m],\n\u001b[1;32m     11\u001b[0m                   label\u001b[38;5;241m=\u001b[39m\u001b[38;5;124m\"\u001b[39m\u001b[38;5;124my\u001b[39m\u001b[38;5;124m\"\u001b[39m)\n\u001b[1;32m     13\u001b[0m selector \u001b[38;5;241m=\u001b[39m VarianceThreshold()\n\u001b[0;32m---> 14\u001b[0m selector \u001b[38;5;241m=\u001b[39m selector\u001b[38;5;241m.\u001b[39mfit(dataset)\n\u001b[1;32m     15\u001b[0m dataset \u001b[38;5;241m=\u001b[39m selector\u001b[38;5;241m.\u001b[39mtransform(dataset)\n\u001b[1;32m     16\u001b[0m \u001b[38;5;28mprint\u001b[39m(dataset\u001b[38;5;241m.\u001b[39mfeatures)\n",
      "File \u001b[0;32m~/Desktop/4ano/EC/MD/DataMining/src/variance_threshold.py:50\u001b[0m, in \u001b[0;36mVarianceThreshold.fit\u001b[0;34m(self, dataset)\u001b[0m\n\u001b[1;32m     39\u001b[0m \u001b[38;5;124;03m\"\"\"\u001b[39;00m\n\u001b[1;32m     40\u001b[0m \u001b[38;5;124;03mFit the VarianceThreshold model according to the given training data.\u001b[39;00m\n\u001b[1;32m     41\u001b[0m \u001b[38;5;124;03mParameters\u001b[39;00m\n\u001b[0;32m   (...)\u001b[0m\n\u001b[1;32m     47\u001b[0m \u001b[38;5;124;03mself : object\u001b[39;00m\n\u001b[1;32m     48\u001b[0m \u001b[38;5;124;03m\"\"\"\u001b[39;00m\n\u001b[1;32m     49\u001b[0m \u001b[38;5;28;01mif\u001b[39;00m \u001b[38;5;129;01mnot\u001b[39;00m dataset\u001b[38;5;241m.\u001b[39mall_numeric:\n\u001b[0;32m---> 50\u001b[0m     \u001b[38;5;28;01mraise\u001b[39;00m \u001b[38;5;167;01mValueError\u001b[39;00m(\u001b[38;5;124m\"\u001b[39m\u001b[38;5;124mTheres is not encoded data. Consider using an encoder.\u001b[39m\u001b[38;5;124m\"\u001b[39m)\n\u001b[1;32m     51\u001b[0m \u001b[38;5;28;01melse\u001b[39;00m:\n\u001b[1;32m     52\u001b[0m     X \u001b[38;5;241m=\u001b[39m dataset\u001b[38;5;241m.\u001b[39mX\n",
      "\u001b[0;31mValueError\u001b[0m: Theres is not encoded data. Consider using an encoder."
     ]
    }
   ],
   "source": [
    "from variance_threshold import VarianceThreshold\n",
    "from data.dataset import Dataset\n",
    "\n",
    "dataset = Dataset(X=np.array([[0, 2, 0, 3],\n",
    "                              [0, 1, 4, 3],\n",
    "                              [0, 1, 1, 3]]),\n",
    "                  y=np.array([0, 1, 0]),\n",
    "                  features=[\"f1\", \"f2\", \"f3\", \"f4\"],\n",
    "                  discrete_features=[\"f3\"],\n",
    "                  numeric_features=[\"f1\", \"f2\", \"f4\"],\n",
    "                  label=\"y\")\n",
    "\n",
    "selector = VarianceThreshold()\n",
    "selector = selector.fit(dataset)\n",
    "dataset = selector.transform(dataset)\n",
    "print(dataset.features)\n",
    "\n",
    "\n"
   ]
  },
  {
   "cell_type": "code",
   "execution_count": null,
   "metadata": {},
   "outputs": [],
   "source": []
  }
 ],
 "metadata": {
  "kernelspec": {
   "display_name": "Python 3 (ipykernel)",
   "language": "python",
   "name": "python3"
  },
  "language_info": {
   "codemirror_mode": {
    "name": "ipython",
    "version": 3
   },
   "file_extension": ".py",
   "mimetype": "text/x-python",
   "name": "python",
   "nbconvert_exporter": "python",
   "pygments_lexer": "ipython3",
   "version": "3.10.6"
  }
 },
 "nbformat": 4,
 "nbformat_minor": 2
}
